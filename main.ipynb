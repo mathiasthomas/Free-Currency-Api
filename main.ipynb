{
 "cells": [
  {
   "cell_type": "code",
   "execution_count": 2,
   "id": "068f9a26",
   "metadata": {},
   "outputs": [],
   "source": [
    "import json\n",
    "\n",
    "# Read the API key from the configuration file\n",
    "with open(\"config.json\", \"r\") as config_file:\n",
    "    config = json.load(config_file)\n",
    "    currency_conversion_api_key = config.get(\"CURRENCY_CONVERSION_API_KEY\")\n",
    "\n",
    "if currency_conversion_api_key is None:\n",
    "    raise ValueError(\"CURRENCY_CONVERSION_API_KEY not found in the configuration file\")\n"
   ]
  },
  {
   "cell_type": "code",
   "execution_count": 7,
   "id": "83551fb3",
   "metadata": {},
   "outputs": [],
   "source": [
    "import json\n",
    "import pandas as pd"
   ]
  },
  {
   "cell_type": "code",
   "execution_count": null,
   "id": "23dbf7ef",
   "metadata": {},
   "outputs": [],
   "source": []
  },
  {
   "cell_type": "code",
   "execution_count": 3,
   "id": "c4eed504",
   "metadata": {},
   "outputs": [
    {
     "name": "stdout",
     "output_type": "stream",
     "text": [
      "401\n"
     ]
    }
   ],
   "source": [
    "# import requests\n",
    "# from requests.structures import CaseInsensitiveDict\n",
    "\n",
    "# url = \"https://api.freecurrencyapi.com/v1/latest?apikey=api_key\"\n",
    "\n",
    "# resp = requests.get(url)\n",
    "\n",
    "# print(resp.status_code)"
   ]
  },
  {
   "cell_type": "code",
   "execution_count": 3,
   "id": "e01cd478",
   "metadata": {},
   "outputs": [
    {
     "name": "stdout",
     "output_type": "stream",
     "text": [
      "200\n"
     ]
    }
   ],
   "source": [
    "import requests\n",
    "from requests.structures import CaseInsensitiveDict\n",
    "\n",
    "url = \"https://api.freecurrencyapi.com/v1/latest\"\n",
    "\n",
    "base_currency = 'ZAR'\n",
    "currencies = 'USD,TRY,AUD,GBP'\n",
    "\n",
    "params = {\n",
    "    \"base_currency\": base_currency,\n",
    "    \"currencies\": currencies\n",
    "}\n",
    "\n",
    "headers = CaseInsensitiveDict()\n",
    "headers[\"apikey\"] = currency_conversion_api_key\n",
    "resp = requests.get(url, params=params,headers=headers)\n",
    "\n",
    "print(resp.status_code)"
   ]
  },
  {
   "cell_type": "markdown",
   "id": "8d0d72e8",
   "metadata": {},
   "source": [
    "# RATES"
   ]
  },
  {
   "cell_type": "code",
   "execution_count": 4,
   "id": "a0b6be78",
   "metadata": {},
   "outputs": [],
   "source": [
    "rate_url = 'https://api.freecurrencyapi.com/v1/latest'\n",
    "rates_resp = requests.get(rate_url, params=params,headers=headers)"
   ]
  },
  {
   "cell_type": "code",
   "execution_count": 5,
   "id": "07abb2b2",
   "metadata": {},
   "outputs": [],
   "source": [
    "# print(rates_resp.content)\n",
    "data = json.loads(rates_resp.text)"
   ]
  },
  {
   "cell_type": "code",
   "execution_count": 8,
   "id": "1c6476af",
   "metadata": {},
   "outputs": [],
   "source": [
    "df = pd.DataFrame(data)"
   ]
  },
  {
   "cell_type": "code",
   "execution_count": 9,
   "id": "ccb9fb81",
   "metadata": {},
   "outputs": [
    {
     "data": {
      "text/html": [
       "<div>\n",
       "<style scoped>\n",
       "    .dataframe tbody tr th:only-of-type {\n",
       "        vertical-align: middle;\n",
       "    }\n",
       "\n",
       "    .dataframe tbody tr th {\n",
       "        vertical-align: top;\n",
       "    }\n",
       "\n",
       "    .dataframe thead th {\n",
       "        text-align: right;\n",
       "    }\n",
       "</style>\n",
       "<table border=\"1\" class=\"dataframe\">\n",
       "  <thead>\n",
       "    <tr style=\"text-align: right;\">\n",
       "      <th></th>\n",
       "      <th>data</th>\n",
       "    </tr>\n",
       "  </thead>\n",
       "  <tbody>\n",
       "    <tr>\n",
       "      <th>AUD</th>\n",
       "      <td>0.084091</td>\n",
       "    </tr>\n",
       "    <tr>\n",
       "      <th>GBP</th>\n",
       "      <td>0.044281</td>\n",
       "    </tr>\n",
       "    <tr>\n",
       "      <th>TRY</th>\n",
       "      <td>1.555983</td>\n",
       "    </tr>\n",
       "    <tr>\n",
       "      <th>USD</th>\n",
       "      <td>0.054799</td>\n",
       "    </tr>\n",
       "  </tbody>\n",
       "</table>\n",
       "</div>"
      ],
      "text/plain": [
       "         data\n",
       "AUD  0.084091\n",
       "GBP  0.044281\n",
       "TRY  1.555983\n",
       "USD  0.054799"
      ]
     },
     "execution_count": 9,
     "metadata": {},
     "output_type": "execute_result"
    }
   ],
   "source": [
    "df"
   ]
  },
  {
   "cell_type": "markdown",
   "id": "9aa559c6",
   "metadata": {},
   "source": [
    "# Currency List"
   ]
  },
  {
   "cell_type": "code",
   "execution_count": 10,
   "id": "9a49b37a",
   "metadata": {},
   "outputs": [],
   "source": [
    "curr_url = 'https://api.freecurrencyapi.com/v1/currencies'\n",
    "curr_resp = requests.get(curr_url,headers=headers)"
   ]
  },
  {
   "cell_type": "code",
   "execution_count": 11,
   "id": "dbd2d563",
   "metadata": {},
   "outputs": [],
   "source": [
    "curr_list_info = json.loads(curr_resp.text)"
   ]
  },
  {
   "cell_type": "code",
   "execution_count": 12,
   "id": "5ce11a1c",
   "metadata": {},
   "outputs": [],
   "source": [
    "curr_list_df = pd.DataFrame(curr_list_info)"
   ]
  },
  {
   "cell_type": "code",
   "execution_count": 14,
   "id": "02bfe993",
   "metadata": {},
   "outputs": [],
   "source": [
    "# curr_list_df"
   ]
  },
  {
   "cell_type": "markdown",
   "id": "5568953a",
   "metadata": {},
   "source": [
    "# Historical Rates"
   ]
  },
  {
   "cell_type": "code",
   "execution_count": 15,
   "id": "7fc4ded4",
   "metadata": {},
   "outputs": [],
   "source": [
    "histo_rate_url = \"https://api.freecurrencyapi.com/v1/historical\"\n",
    "histo_respo = requests.get(histo_rate_url ,headers=headers)"
   ]
  },
  {
   "cell_type": "code",
   "execution_count": 16,
   "id": "77480af5",
   "metadata": {},
   "outputs": [],
   "source": [
    "histo_rates_data = json.loads(histo_respo.text)\n",
    "histo_data_df = pd.DataFrame(histo_rates_data)"
   ]
  },
  {
   "cell_type": "code",
   "execution_count": 17,
   "id": "47487ca3",
   "metadata": {},
   "outputs": [
    {
     "data": {
      "text/html": [
       "<div>\n",
       "<style scoped>\n",
       "    .dataframe tbody tr th:only-of-type {\n",
       "        vertical-align: middle;\n",
       "    }\n",
       "\n",
       "    .dataframe tbody tr th {\n",
       "        vertical-align: top;\n",
       "    }\n",
       "\n",
       "    .dataframe thead th {\n",
       "        text-align: right;\n",
       "    }\n",
       "</style>\n",
       "<table border=\"1\" class=\"dataframe\">\n",
       "  <thead>\n",
       "    <tr style=\"text-align: right;\">\n",
       "      <th></th>\n",
       "      <th>data</th>\n",
       "    </tr>\n",
       "  </thead>\n",
       "  <tbody>\n",
       "    <tr>\n",
       "      <th>2023-11-05</th>\n",
       "      <td>{'AUD': 1.5345401805, 'BGN': 1.8221902017, 'BR...</td>\n",
       "    </tr>\n",
       "  </tbody>\n",
       "</table>\n",
       "</div>"
      ],
      "text/plain": [
       "                                                         data\n",
       "2023-11-05  {'AUD': 1.5345401805, 'BGN': 1.8221902017, 'BR..."
      ]
     },
     "execution_count": 17,
     "metadata": {},
     "output_type": "execute_result"
    }
   ],
   "source": [
    "histo_data_df"
   ]
  },
  {
   "cell_type": "code",
   "execution_count": null,
   "id": "d76131ae",
   "metadata": {},
   "outputs": [],
   "source": []
  }
 ],
 "metadata": {
  "kernelspec": {
   "display_name": "Python 3 (ipykernel)",
   "language": "python",
   "name": "python3"
  },
  "language_info": {
   "codemirror_mode": {
    "name": "ipython",
    "version": 3
   },
   "file_extension": ".py",
   "mimetype": "text/x-python",
   "name": "python",
   "nbconvert_exporter": "python",
   "pygments_lexer": "ipython3",
   "version": "3.11.1"
  }
 },
 "nbformat": 4,
 "nbformat_minor": 5
}
