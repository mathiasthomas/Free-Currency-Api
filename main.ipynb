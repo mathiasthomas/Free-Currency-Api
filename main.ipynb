{
 "cells": [
  {
   "cell_type": "code",
   "execution_count": 1,
   "id": "399c90a7",
   "metadata": {},
   "outputs": [],
   "source": [
    "import json\n",
    "\n",
    "# Read the API key from the configuration file\n",
    "with open(\"config.json\", \"r\") as config_file:\n",
    "    config = json.load(config_file)\n",
    "    currency_conversion_api_key = config.get(\"CURRENCY_CONVERSION_API_KEY\")\n",
    "\n",
    "if currency_conversion_api_key is None:\n",
    "    raise ValueError(\"CURRENCY_CONVERSION_API_KEY not found in the configuration file\")\n"
   ]
  },
  {
   "cell_type": "code",
   "execution_count": 2,
   "id": "83551fb3",
   "metadata": {},
   "outputs": [],
   "source": [
    "import json\n",
    "import pandas as pd"
   ]
  },
  {
   "cell_type": "code",
   "execution_count": 3,
   "id": "c4eed504",
   "metadata": {},
   "outputs": [
    {
     "name": "stdout",
     "output_type": "stream",
     "text": [
      "401\n"
     ]
    }
   ],
   "source": [
    "# import requests\n",
    "# from requests.structures import CaseInsensitiveDict\n",
    "\n",
    "# url = \"https://api.freecurrencyapi.com/v1/latest?apikey=api_key\"\n",
    "\n",
    "# resp = requests.get(url)\n",
    "\n",
    "# print(resp.status_code)"
   ]
  },
  {
   "cell_type": "code",
   "execution_count": 8,
   "id": "e01cd478",
   "metadata": {},
   "outputs": [
    {
     "name": "stdout",
     "output_type": "stream",
     "text": [
      "200\n"
     ]
    }
   ],
   "source": [
    "import requests\n",
    "from requests.structures import CaseInsensitiveDict\n",
    "\n",
    "url = \"https://api.freecurrencyapi.com/v1/latest\"\n",
    "\n",
    "# base_currency = 'ZAR'\n",
    "# currencies = 'USD,TRY,AUD,GBP'\n",
    "\n",
    "params = {\n",
    "    \"base_currency\": base_currency,\n",
    "    \"currencies\": currencies\n",
    "}\n",
    "\n",
    "headers = CaseInsensitiveDict()\n",
    "headers[\"apikey\"] = currency_conversion_api_key\n",
    "resp = requests.get(url, params=params,headers=headers)\n",
    "\n",
    "print(resp.status_code)"
   ]
  },
  {
   "cell_type": "markdown",
   "id": "8d0d72e8",
   "metadata": {},
   "source": [
    "# RATES"
   ]
  },
  {
   "cell_type": "code",
   "execution_count": 9,
   "id": "a0b6be78",
   "metadata": {},
   "outputs": [],
   "source": [
    "rate_url = 'https://api.freecurrencyapi.com/v1/latest'\n",
    "# rates_resp = requests.get(rate_url, params=params,headers=headers)\n",
    "rates_resp = requests.get(rate_url,headers=headers)"
   ]
  },
  {
   "cell_type": "code",
   "execution_count": 10,
   "id": "07abb2b2",
   "metadata": {},
   "outputs": [],
   "source": [
    "# print(rates_resp.content)\n",
    "data = json.loads(rates_resp.text)"
   ]
  },
  {
   "cell_type": "code",
   "execution_count": 13,
   "id": "5376cd28",
   "metadata": {},
   "outputs": [
    {
     "data": {
      "text/plain": [
       "{'data': {'AUD': 1.5345401805,\n",
       "  'BGN': 1.8221902017,\n",
       "  'BRL': 4.8928708594,\n",
       "  'CAD': 1.3660502242,\n",
       "  'CHF': 0.8990201329,\n",
       "  'CNY': 7.2979409447,\n",
       "  'CZK': 22.7013730614,\n",
       "  'DKK': 6.9510907368,\n",
       "  'EUR': 0.9317201208,\n",
       "  'GBP': 0.8080701125,\n",
       "  'HKD': 7.8221108037,\n",
       "  'HRK': 7.0425408739,\n",
       "  'HUF': 353.8908982314,\n",
       "  'IDR': 15704.153081381,\n",
       "  'ILS': 3.9255304843,\n",
       "  'INR': 83.0822989945,\n",
       "  'ISK': 139.0264570119,\n",
       "  'JPY': 149.4456975115,\n",
       "  'KRW': 1306.3790579203,\n",
       "  'MXN': 17.4655028338,\n",
       "  'MYR': 4.7255407304,\n",
       "  'NOK': 11.0195415238,\n",
       "  'NZD': 1.6677903169,\n",
       "  'PHP': 56.0604368321,\n",
       "  'PLN': 4.1444707599,\n",
       "  'RON': 4.630280471,\n",
       "  'RUB': 91.7027771534,\n",
       "  'SEK': 10.8775617582,\n",
       "  'SGD': 1.3535102301,\n",
       "  'THB': 35.5178959579,\n",
       "  'TRY': 28.3943738694,\n",
       "  'USD': 1,\n",
       "  'ZAR': 18.2485130574}}"
      ]
     },
     "execution_count": 13,
     "metadata": {},
     "output_type": "execute_result"
    }
   ],
   "source": [
    "data"
   ]
  },
  {
   "cell_type": "code",
   "execution_count": 11,
   "id": "1c6476af",
   "metadata": {},
   "outputs": [],
   "source": [
    "df = pd.DataFrame(data)"
   ]
  },
  {
   "cell_type": "code",
   "execution_count": 12,
   "id": "ccb9fb81",
   "metadata": {},
   "outputs": [
    {
     "data": {
      "text/html": [
       "<div>\n",
       "<style scoped>\n",
       "    .dataframe tbody tr th:only-of-type {\n",
       "        vertical-align: middle;\n",
       "    }\n",
       "\n",
       "    .dataframe tbody tr th {\n",
       "        vertical-align: top;\n",
       "    }\n",
       "\n",
       "    .dataframe thead th {\n",
       "        text-align: right;\n",
       "    }\n",
       "</style>\n",
       "<table border=\"1\" class=\"dataframe\">\n",
       "  <thead>\n",
       "    <tr style=\"text-align: right;\">\n",
       "      <th></th>\n",
       "      <th>data</th>\n",
       "    </tr>\n",
       "  </thead>\n",
       "  <tbody>\n",
       "    <tr>\n",
       "      <th>AUD</th>\n",
       "      <td>1.534540</td>\n",
       "    </tr>\n",
       "    <tr>\n",
       "      <th>BGN</th>\n",
       "      <td>1.822190</td>\n",
       "    </tr>\n",
       "    <tr>\n",
       "      <th>BRL</th>\n",
       "      <td>4.892871</td>\n",
       "    </tr>\n",
       "    <tr>\n",
       "      <th>CAD</th>\n",
       "      <td>1.366050</td>\n",
       "    </tr>\n",
       "    <tr>\n",
       "      <th>CHF</th>\n",
       "      <td>0.899020</td>\n",
       "    </tr>\n",
       "    <tr>\n",
       "      <th>CNY</th>\n",
       "      <td>7.297941</td>\n",
       "    </tr>\n",
       "    <tr>\n",
       "      <th>CZK</th>\n",
       "      <td>22.701373</td>\n",
       "    </tr>\n",
       "    <tr>\n",
       "      <th>DKK</th>\n",
       "      <td>6.951091</td>\n",
       "    </tr>\n",
       "    <tr>\n",
       "      <th>EUR</th>\n",
       "      <td>0.931720</td>\n",
       "    </tr>\n",
       "    <tr>\n",
       "      <th>GBP</th>\n",
       "      <td>0.808070</td>\n",
       "    </tr>\n",
       "    <tr>\n",
       "      <th>HKD</th>\n",
       "      <td>7.822111</td>\n",
       "    </tr>\n",
       "    <tr>\n",
       "      <th>HRK</th>\n",
       "      <td>7.042541</td>\n",
       "    </tr>\n",
       "    <tr>\n",
       "      <th>HUF</th>\n",
       "      <td>353.890898</td>\n",
       "    </tr>\n",
       "    <tr>\n",
       "      <th>IDR</th>\n",
       "      <td>15704.153081</td>\n",
       "    </tr>\n",
       "    <tr>\n",
       "      <th>ILS</th>\n",
       "      <td>3.925530</td>\n",
       "    </tr>\n",
       "    <tr>\n",
       "      <th>INR</th>\n",
       "      <td>83.082299</td>\n",
       "    </tr>\n",
       "    <tr>\n",
       "      <th>ISK</th>\n",
       "      <td>139.026457</td>\n",
       "    </tr>\n",
       "    <tr>\n",
       "      <th>JPY</th>\n",
       "      <td>149.445698</td>\n",
       "    </tr>\n",
       "    <tr>\n",
       "      <th>KRW</th>\n",
       "      <td>1306.379058</td>\n",
       "    </tr>\n",
       "    <tr>\n",
       "      <th>MXN</th>\n",
       "      <td>17.465503</td>\n",
       "    </tr>\n",
       "    <tr>\n",
       "      <th>MYR</th>\n",
       "      <td>4.725541</td>\n",
       "    </tr>\n",
       "    <tr>\n",
       "      <th>NOK</th>\n",
       "      <td>11.019542</td>\n",
       "    </tr>\n",
       "    <tr>\n",
       "      <th>NZD</th>\n",
       "      <td>1.667790</td>\n",
       "    </tr>\n",
       "    <tr>\n",
       "      <th>PHP</th>\n",
       "      <td>56.060437</td>\n",
       "    </tr>\n",
       "    <tr>\n",
       "      <th>PLN</th>\n",
       "      <td>4.144471</td>\n",
       "    </tr>\n",
       "    <tr>\n",
       "      <th>RON</th>\n",
       "      <td>4.630280</td>\n",
       "    </tr>\n",
       "    <tr>\n",
       "      <th>RUB</th>\n",
       "      <td>91.702777</td>\n",
       "    </tr>\n",
       "    <tr>\n",
       "      <th>SEK</th>\n",
       "      <td>10.877562</td>\n",
       "    </tr>\n",
       "    <tr>\n",
       "      <th>SGD</th>\n",
       "      <td>1.353510</td>\n",
       "    </tr>\n",
       "    <tr>\n",
       "      <th>THB</th>\n",
       "      <td>35.517896</td>\n",
       "    </tr>\n",
       "    <tr>\n",
       "      <th>TRY</th>\n",
       "      <td>28.394374</td>\n",
       "    </tr>\n",
       "    <tr>\n",
       "      <th>USD</th>\n",
       "      <td>1.000000</td>\n",
       "    </tr>\n",
       "    <tr>\n",
       "      <th>ZAR</th>\n",
       "      <td>18.248513</td>\n",
       "    </tr>\n",
       "  </tbody>\n",
       "</table>\n",
       "</div>"
      ],
      "text/plain": [
       "             data\n",
       "AUD      1.534540\n",
       "BGN      1.822190\n",
       "BRL      4.892871\n",
       "CAD      1.366050\n",
       "CHF      0.899020\n",
       "CNY      7.297941\n",
       "CZK     22.701373\n",
       "DKK      6.951091\n",
       "EUR      0.931720\n",
       "GBP      0.808070\n",
       "HKD      7.822111\n",
       "HRK      7.042541\n",
       "HUF    353.890898\n",
       "IDR  15704.153081\n",
       "ILS      3.925530\n",
       "INR     83.082299\n",
       "ISK    139.026457\n",
       "JPY    149.445698\n",
       "KRW   1306.379058\n",
       "MXN     17.465503\n",
       "MYR      4.725541\n",
       "NOK     11.019542\n",
       "NZD      1.667790\n",
       "PHP     56.060437\n",
       "PLN      4.144471\n",
       "RON      4.630280\n",
       "RUB     91.702777\n",
       "SEK     10.877562\n",
       "SGD      1.353510\n",
       "THB     35.517896\n",
       "TRY     28.394374\n",
       "USD      1.000000\n",
       "ZAR     18.248513"
      ]
     },
     "execution_count": 12,
     "metadata": {},
     "output_type": "execute_result"
    }
   ],
   "source": [
    "df"
   ]
  },
  {
   "cell_type": "markdown",
   "id": "9aa559c6",
   "metadata": {},
   "source": [
    "# Currency List"
   ]
  },
  {
   "cell_type": "code",
   "execution_count": 10,
   "id": "9a49b37a",
   "metadata": {},
   "outputs": [],
   "source": [
    "curr_url = 'https://api.freecurrencyapi.com/v1/currencies'\n",
    "curr_resp = requests.get(curr_url,headers=headers)"
   ]
  },
  {
   "cell_type": "code",
   "execution_count": 11,
   "id": "dbd2d563",
   "metadata": {},
   "outputs": [],
   "source": [
    "curr_list_info = json.loads(curr_resp.text)"
   ]
  },
  {
   "cell_type": "code",
   "execution_count": 12,
   "id": "5ce11a1c",
   "metadata": {},
   "outputs": [],
   "source": [
    "curr_list_df = pd.DataFrame(curr_list_info)"
   ]
  },
  {
   "cell_type": "code",
   "execution_count": 14,
   "id": "02bfe993",
   "metadata": {},
   "outputs": [],
   "source": [
    "# curr_list_df"
   ]
  },
  {
   "cell_type": "markdown",
   "id": "5568953a",
   "metadata": {},
   "source": [
    "# Historical Rates"
   ]
  },
  {
   "cell_type": "code",
   "execution_count": 25,
   "id": "6b1b4195",
   "metadata": {},
   "outputs": [],
   "source": [
    "date = '2023-01-01'\n",
    "params = {\n",
    "\n",
    "    \"date\": date\n",
    "}"
   ]
  },
  {
   "cell_type": "code",
   "execution_count": 26,
   "id": "7fc4ded4",
   "metadata": {},
   "outputs": [],
   "source": [
    "histo_rate_url = \"https://api.freecurrencyapi.com/v1/historical\"\n",
    "histo_respo = requests.get(histo_rate_url ,params=params,headers=headers)"
   ]
  },
  {
   "cell_type": "code",
   "execution_count": 27,
   "id": "77480af5",
   "metadata": {},
   "outputs": [],
   "source": [
    "histo_rates_data = json.loads(histo_respo.text)\n",
    "histo_data_df = pd.DataFrame(histo_rates_data)"
   ]
  },
  {
   "cell_type": "code",
   "execution_count": 28,
   "id": "47487ca3",
   "metadata": {},
   "outputs": [
    {
     "data": {
      "text/html": [
       "<div>\n",
       "<style scoped>\n",
       "    .dataframe tbody tr th:only-of-type {\n",
       "        vertical-align: middle;\n",
       "    }\n",
       "\n",
       "    .dataframe tbody tr th {\n",
       "        vertical-align: top;\n",
       "    }\n",
       "\n",
       "    .dataframe thead th {\n",
       "        text-align: right;\n",
       "    }\n",
       "</style>\n",
       "<table border=\"1\" class=\"dataframe\">\n",
       "  <thead>\n",
       "    <tr style=\"text-align: right;\">\n",
       "      <th></th>\n",
       "      <th>data</th>\n",
       "    </tr>\n",
       "  </thead>\n",
       "  <tbody>\n",
       "    <tr>\n",
       "      <th>2023-01-01</th>\n",
       "      <td>{'AUD': 1.466382, 'BGN': 1.827159, 'BRL': 5.28...</td>\n",
       "    </tr>\n",
       "  </tbody>\n",
       "</table>\n",
       "</div>"
      ],
      "text/plain": [
       "                                                         data\n",
       "2023-01-01  {'AUD': 1.466382, 'BGN': 1.827159, 'BRL': 5.28..."
      ]
     },
     "execution_count": 28,
     "metadata": {},
     "output_type": "execute_result"
    }
   ],
   "source": [
    "histo_data_df"
   ]
  },
  {
   "cell_type": "code",
   "execution_count": 14,
   "id": "9cc7f01f",
   "metadata": {},
   "outputs": [],
   "source": [
    "\n",
    "import requests\n",
    "from django.shortcuts import render\n",
    "from requests.structures import CaseInsensitiveDict\n",
    "\n",
    "def conversion_rates(request):\n",
    "    url = \"https://api.freecurrencyapi.com/v1/latest\"\n",
    "    base_currency = 'USD'\n",
    "    api_key = \"fca_live_fYGM2jfifY16bCDf2YkFMlouP31MhBI1Tdus5piP\"\n",
    "\n",
    "    params = {\n",
    "        \"api_key\": api_key,\n",
    "        \"base_currency\": base_currency,\n",
    "    }\n",
    "\n",
    "    headers = {\n",
    "        \"apikey\": api_key,\n",
    "    }\n",
    "\n",
    "    response = requests.get(url, params=params, headers=headers)\n",
    "    if response.status_code == 200:\n",
    "        data = response.json()\n",
    "        conversion_rates = data.get('data', {})\n",
    "    else:\n",
    "        error_message = f\"Error: {response.status_code} - {response.text}\"\n",
    "        return render(request, 'error.html', {'error_message': error_message})\n",
    "        print('NOT Correct')\n",
    "\n",
    "    return render(request, 'conversion_rates.html', {'conversion_rates': conversion_rates})"
   ]
  },
  {
   "cell_type": "code",
   "execution_count": 25,
   "id": "2d42de70",
   "metadata": {},
   "outputs": [],
   "source": [
    "conversion_rates = data.get('data', {})"
   ]
  },
  {
   "cell_type": "code",
   "execution_count": 26,
   "id": "22681bdd",
   "metadata": {},
   "outputs": [
    {
     "data": {
      "text/plain": [
       "{'AUD': 1.5345401805,\n",
       " 'BGN': 1.8221902017,\n",
       " 'BRL': 4.8928708594,\n",
       " 'CAD': 1.3660502242,\n",
       " 'CHF': 0.8990201329,\n",
       " 'CNY': 7.2979409447,\n",
       " 'CZK': 22.7013730614,\n",
       " 'DKK': 6.9510907368,\n",
       " 'EUR': 0.9317201208,\n",
       " 'GBP': 0.8080701125,\n",
       " 'HKD': 7.8221108037,\n",
       " 'HRK': 7.0425408739,\n",
       " 'HUF': 353.8908982314,\n",
       " 'IDR': 15704.153081381,\n",
       " 'ILS': 3.9255304843,\n",
       " 'INR': 83.0822989945,\n",
       " 'ISK': 139.0264570119,\n",
       " 'JPY': 149.4456975115,\n",
       " 'KRW': 1306.3790579203,\n",
       " 'MXN': 17.4655028338,\n",
       " 'MYR': 4.7255407304,\n",
       " 'NOK': 11.0195415238,\n",
       " 'NZD': 1.6677903169,\n",
       " 'PHP': 56.0604368321,\n",
       " 'PLN': 4.1444707599,\n",
       " 'RON': 4.630280471,\n",
       " 'RUB': 91.7027771534,\n",
       " 'SEK': 10.8775617582,\n",
       " 'SGD': 1.3535102301,\n",
       " 'THB': 35.5178959579,\n",
       " 'TRY': 28.3943738694,\n",
       " 'USD': 1,\n",
       " 'ZAR': 18.2485130574}"
      ]
     },
     "execution_count": 26,
     "metadata": {},
     "output_type": "execute_result"
    }
   ],
   "source": [
    "conversion_rates "
   ]
  }
 ],
 "metadata": {
  "kernelspec": {
   "display_name": "Python 3 (ipykernel)",
   "language": "python",
   "name": "python3"
  },
  "language_info": {
   "codemirror_mode": {
    "name": "ipython",
    "version": 3
   },
   "file_extension": ".py",
   "mimetype": "text/x-python",
   "name": "python",
   "nbconvert_exporter": "python",
   "pygments_lexer": "ipython3",
   "version": "3.11.1"
  }
 },
 "nbformat": 4,
 "nbformat_minor": 5
}
